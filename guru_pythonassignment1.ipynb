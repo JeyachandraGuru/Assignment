{
 "cells": [
  {
   "cell_type": "markdown",
   "metadata": {},
   "source": [
    "Write a program which will find all such numbers which are divisible by 7 but are not a multiple of 5, between 2000 and 3200 (both included). The numbers obtained should be printed\n",
    "in a comma-separated sequence on a single line."
   ]
  },
  {
   "cell_type": "code",
   "execution_count": 40,
   "metadata": {},
   "outputs": [
    {
     "name": "stdout",
     "output_type": "stream",
     "text": [
      "2002\t2009\t2016\t2023\t2030\t2037\t2044\t2051\t2058\t2065\t2072\t2079\t2086\t2093\t2100\t2107\t2114\t2121\t2128\t2135\t2142\t2149\t2156\t2163\t2170\t2177\t2184\t2191\t2198\t2205\t2212\t2219\t2226\t2233\t2240\t2247\t2254\t2261\t2268\t2275\t2282\t2289\t2296\t2303\t2310\t2317\t2324\t2331\t2338\t2345\t2352\t2359\t2366\t2373\t2380\t2387\t2394\t2401\t2408\t2415\t2422\t2429\t2436\t2443\t2450\t2457\t2464\t2471\t2478\t2485\t2492\t2499\t2506\t2513\t2520\t2527\t2534\t2541\t2548\t2555\t2562\t2569\t2576\t2583\t2590\t2597\t2604\t2611\t2618\t2625\t2632\t2639\t2646\t2653\t2660\t2667\t2674\t2681\t2688\t2695\t2702\t2709\t2716\t2723\t2730\t2737\t2744\t2751\t2758\t2765\t2772\t2779\t2786\t2793\t2800\t2807\t2814\t2821\t2828\t2835\t2842\t2849\t2856\t2863\t2870\t2877\t2884\t2891\t2898\t2905\t2912\t2919\t2926\t2933\t2940\t2947\t2954\t2961\t2968\t2975\t2982\t2989\t2996\t3003\t3010\t3017\t3024\t3031\t3038\t3045\t3052\t3059\t3066\t3073\t3080\t3087\t3094\t3101\t3108\t3115\t3122\t3129\t3136\t3143\t3150\t3157\t3164\t3171\t3178\t3185\t3192\t3199\t"
     ]
    }
   ],
   "source": [
    "for i in range(2000,3201):\n",
    "    if(i%7==0 and i/5!=1):\n",
    "       print(i, sep=',',end ='\\t')\n",
    "          \n",
    "    "
   ]
  },
  {
   "cell_type": "markdown",
   "metadata": {},
   "source": [
    "Write a Python program to accept the user's first and last name and then getting them printed in the the reverse order with a space between first name and last name."
   ]
  },
  {
   "cell_type": "code",
   "execution_count": 42,
   "metadata": {},
   "outputs": [
    {
     "name": "stdout",
     "output_type": "stream",
     "text": [
      "Enter your first nameJeyachandra\n",
      "Enter your last nameGuru\n",
      "uruG ardnahcayeJ\n"
     ]
    }
   ],
   "source": [
    "f1 = input(\"Enter your first name\")\n",
    "l1 = input(\"Enter your last name\")\n",
    "f2 = f1[::-1]\n",
    "l2 = l1[::-1]\n",
    "print(\" \".join([l2, f2]))\n",
    "    "
   ]
  },
  {
   "cell_type": "markdown",
   "metadata": {},
   "source": [
    "Write a Python program to find the volume of a sphere with diameter 12 cm. Formula: V=4/3 * π * r 3"
   ]
  },
  {
   "cell_type": "code",
   "execution_count": 23,
   "metadata": {},
   "outputs": [
    {
     "name": "stdout",
     "output_type": "stream",
     "text": [
      "905.1428571428572\n"
     ]
    }
   ],
   "source": [
    "d = 12\n",
    "r=d/2\n",
    "v=4/3 * 22/7 * r**3\n",
    "print(v)"
   ]
  }
 ],
 "metadata": {
  "kernelspec": {
   "display_name": "Python 3",
   "language": "python",
   "name": "python3"
  },
  "language_info": {
   "codemirror_mode": {
    "name": "ipython",
    "version": 3
   },
   "file_extension": ".py",
   "mimetype": "text/x-python",
   "name": "python",
   "nbconvert_exporter": "python",
   "pygments_lexer": "ipython3",
   "version": "3.7.6"
  }
 },
 "nbformat": 4,
 "nbformat_minor": 4
}
